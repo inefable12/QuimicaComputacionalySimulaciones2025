{
  "nbformat": 4,
  "nbformat_minor": 0,
  "metadata": {
    "colab": {
      "provenance": [],
      "include_colab_link": true
    },
    "kernelspec": {
      "name": "python3",
      "display_name": "Python 3"
    },
    "language_info": {
      "name": "python"
    }
  },
  "cells": [
    {
      "cell_type": "markdown",
      "metadata": {
        "id": "view-in-github",
        "colab_type": "text"
      },
      "source": [
        "<a href=\"https://colab.research.google.com/github/inefable12/QuimicaComputacionalySimulaciones2025/blob/main/Clase2_C8987.ipynb\" target=\"_parent\"><img src=\"https://colab.research.google.com/assets/colab-badge.svg\" alt=\"Open In Colab\"/></a>"
      ]
    },
    {
      "cell_type": "markdown",
      "source": [
        "$$\\Large \\textit{QUÍMICA COMPUTACIONAL Y SIMULACIONES}$$\n",
        "\n",
        "---\n",
        "$$\\large\\textbf{Sesión 2: Cálculo de π}$$\n",
        "\n",
        "---\n",
        "$$\\textit{Profesor: Dr. Jesus Alvarado-Huayhuaz}$$\n",
        "\n",
        "<br>\n",
        "<br>"
      ],
      "metadata": {
        "id": "AcuBkI6ngrJ7"
      }
    },
    {
      "cell_type": "markdown",
      "source": [
        "Autor: __Jesus Alvarado Huayhuaz__"
      ],
      "metadata": {
        "id": "AoFAfL1fIWYk"
      }
    },
    {
      "cell_type": "markdown",
      "source": [
        "# Método Montecarlo\n",
        "\n",
        "- Existen problemas en los que hay una gran variedad de escenarios posibles.\n",
        "- El método MonteCarlo nos permite explotar una muestra grande de los posibles resultados de un experimento.\n",
        "- Al realizar esta exploración se puede extraer información importante del fenómeno a estudiar.\n",
        "\n",
        "Veamos algunos ejemplos:\n",
        "\n",
        "- Cálculo de π\n",
        "- Difusión de neutrones.\n",
        "- Simulaciones en finanzas.\n",
        "\n",
        "Los números aleatorios son fundamentales en el método de Montecarlo, por lo cual, resulta necesario generarlos en las simulaciones que realizaremos.\n"
      ],
      "metadata": {
        "id": "Kk5YE5GAWUDn"
      }
    },
    {
      "cell_type": "markdown",
      "source": [
        "**Generación de números aleatorios**"
      ],
      "metadata": {
        "id": "Y5yvbJTEX7YT"
      }
    },
    {
      "cell_type": "code",
      "source": [
        "# Creamos un arreglo de números usando numpy\n",
        "import numpy as np\n",
        "\n",
        "a = np.array([10,40,5])\n",
        "a"
      ],
      "metadata": {
        "id": "4DfjwgZyX6en"
      },
      "execution_count": null,
      "outputs": []
    },
    {
      "cell_type": "code",
      "source": [
        "# Podemos hacer operaciones\n",
        "3*a - 2*a - 1"
      ],
      "metadata": {
        "id": "uI0VkkOvYPQv"
      },
      "execution_count": null,
      "outputs": []
    },
    {
      "cell_type": "code",
      "source": [
        "# potenciación\n",
        "a**2"
      ],
      "metadata": {
        "id": "XIP5Mej5Y60n"
      },
      "execution_count": null,
      "outputs": []
    },
    {
      "cell_type": "code",
      "source": [
        "# Llamar a cada elemento\n",
        "a[1]"
      ],
      "metadata": {
        "id": "yh6fWJNgY6w5"
      },
      "execution_count": null,
      "outputs": []
    },
    {
      "cell_type": "code",
      "source": [
        "# Generar números en un determinado rango\n",
        "b = np.linspace(10,20)\n",
        "b"
      ],
      "metadata": {
        "id": "IPHk0T6oYU0j"
      },
      "execution_count": null,
      "outputs": []
    },
    {
      "cell_type": "code",
      "source": [
        "len(b)"
      ],
      "metadata": {
        "id": "Dkz-e1eSZrZR"
      },
      "execution_count": null,
      "outputs": []
    },
    {
      "cell_type": "code",
      "source": [
        "# Si indicamos cuantos números queremos generar\n",
        "b = np.linspace(20,200,10)\n",
        "b"
      ],
      "metadata": {
        "id": "1ZpBvuRKZt05"
      },
      "execution_count": null,
      "outputs": []
    },
    {
      "cell_type": "markdown",
      "source": [
        "Usando linspace le indicamos el número inicial, el final y el número de elementos contenidos, sin embargo, existe otra forma de generar los números indicando el intervalo que deseamos que tengan los números, para ello usamos arange."
      ],
      "metadata": {
        "id": "wEaHwPD0aLf3"
      }
    },
    {
      "cell_type": "code",
      "source": [
        "c = np.arange(20,200,10)\n",
        "c"
      ],
      "metadata": {
        "id": "zNHfou00ZtvP"
      },
      "execution_count": null,
      "outputs": []
    },
    {
      "cell_type": "code",
      "source": [
        "len(c)"
      ],
      "metadata": {
        "id": "YjheDnMFZtk2"
      },
      "execution_count": null,
      "outputs": []
    },
    {
      "cell_type": "code",
      "source": [
        "type(c[0])"
      ],
      "metadata": {
        "id": "uQpgpdubbFj7"
      },
      "execution_count": null,
      "outputs": []
    },
    {
      "cell_type": "code",
      "source": [
        "type(b[0])"
      ],
      "metadata": {
        "id": "7Fqg_QewbMNW"
      },
      "execution_count": null,
      "outputs": []
    },
    {
      "cell_type": "code",
      "source": [
        "# Para la creación de números aleatorios entre 0 y 1 podemos usar random\n",
        "np.random.rand(3,2)"
      ],
      "metadata": {
        "id": "tGYpcd8RbTYd"
      },
      "execution_count": null,
      "outputs": []
    },
    {
      "cell_type": "code",
      "source": [
        "# Podemos utilizar \"choice\" para seleccionar aleatoriamente un elemento\n",
        "nombres = np.array(['maria','juan','pedro','ana'])\n",
        "print('Selección: ', np.random.choice(nombres))"
      ],
      "metadata": {
        "id": "Acve2y-Tb39c"
      },
      "execution_count": null,
      "outputs": []
    },
    {
      "cell_type": "code",
      "source": [
        "# Ejercicio: Elabora el código para repartir una carta aleatoria en una baraja\n",
        "# Ejemplo: 5 trebol, 3 corazon"
      ],
      "metadata": {
        "id": "YipYBg3pcd7V"
      },
      "execution_count": null,
      "outputs": []
    },
    {
      "cell_type": "markdown",
      "source": [
        "# Aplicaciones del método"
      ],
      "metadata": {
        "id": "aaJfcPq66RMm"
      }
    },
    {
      "cell_type": "markdown",
      "source": [
        "## 1. Lanzamiento de moneda"
      ],
      "metadata": {
        "id": "NJ2NiHo4dUoi"
      }
    },
    {
      "cell_type": "code",
      "source": [
        "# Creamos una función para obtener cara o sello\n",
        "\n",
        "def lanzar_moneda():\n",
        "  moneda = np.array(['cara','sello'])\n",
        "  resultado = np.random.choice(moneda)\n",
        "  return(resultado)"
      ],
      "metadata": {
        "id": "G5tiK69CdPtW"
      },
      "execution_count": null,
      "outputs": []
    },
    {
      "cell_type": "code",
      "source": [
        "lanzar_moneda()"
      ],
      "metadata": {
        "id": "XxIm2mKDetKV"
      },
      "execution_count": null,
      "outputs": []
    },
    {
      "cell_type": "code",
      "source": [
        "# Conteo de resultados\n",
        "caraConteo = 0\n",
        "selloConteo = 0\n",
        "for i in range(1000):\n",
        "  resultado = lanzar_moneda()\n",
        "  if resultado == 'cara':\n",
        "    caraConteo += 1\n",
        "  else:\n",
        "    selloConteo += 1\n",
        "print('Conteo cara: ', caraConteo)\n",
        "print('Conteo sello: ', selloConteo)"
      ],
      "metadata": {
        "id": "AkBP6_ATfDVS"
      },
      "execution_count": null,
      "outputs": []
    },
    {
      "cell_type": "markdown",
      "source": [
        "## 2. Apuesta en ruleta"
      ],
      "metadata": {
        "id": "MI-1oYO4r1rL"
      }
    },
    {
      "cell_type": "code",
      "source": [
        "# En una ruleta tenemos 37 casilleros, realicemos apuestas y veamos qué casos de éxito tenemos\n",
        "\n",
        "num = np.arange(0,37)\n",
        "num"
      ],
      "metadata": {
        "id": "g8IU88jorzK3"
      },
      "execution_count": null,
      "outputs": []
    },
    {
      "cell_type": "code",
      "source": [
        "apuesta = input('Escoje un número entre el 0 y 36: ')\n",
        "res = np.random.choice(num)\n",
        "print('Apostaste por',apuesta,'Resultado es',res)\n",
        "if apuesta == res:\n",
        "  print('GANADOR :-)')\n",
        "else:\n",
        "  print('PERDISTE :-(')"
      ],
      "metadata": {
        "id": "x6DQSgYKsZt-"
      },
      "execution_count": null,
      "outputs": []
    },
    {
      "cell_type": "markdown",
      "source": [
        "Ejercicio"
      ],
      "metadata": {
        "id": "gOYLTvE2ygqH"
      }
    },
    {
      "cell_type": "code",
      "source": [
        "# Si disponemos de un capital inicial de 100\n",
        "dinero_total = 100\n",
        "apuesta = 17"
      ],
      "metadata": {
        "id": "4qfrGWtws8Q7"
      },
      "execution_count": null,
      "outputs": []
    },
    {
      "cell_type": "code",
      "source": [
        "print('Apostaste por', apuesta,'resultado: ',res)\n",
        "if apuesta == res:\n",
        "  #ganaste\n",
        "  dinero_total += 1\n",
        "else:\n",
        "  dinero_total -= 1\n",
        "print('Dinero:', dinero_total)"
      ],
      "metadata": {
        "id": "hJ_BwsKAykmN"
      },
      "execution_count": null,
      "outputs": []
    },
    {
      "cell_type": "code",
      "source": [
        "# Si realizamos varias apuestas\n",
        "dinero_total = 100\n",
        "apuesta = 17\n",
        "\n",
        "for i in range(5):\n",
        "  print('Jugada número',i+1)\n",
        "  res = np.random.choice(num)\n",
        "  print('Apostaste por', apuesta,'resultado: ',res)\n",
        "  if apuesta == res:\n",
        "    #ganaste\n",
        "    dinero_total += 1\n",
        "  else:\n",
        "    dinero_total -= 1\n",
        "print('Dinero:', dinero_total)"
      ],
      "metadata": {
        "id": "AgdDDMUatl3k"
      },
      "execution_count": null,
      "outputs": []
    },
    {
      "cell_type": "code",
      "source": [
        "def jugar(apuesta,N):\n",
        "  # N apuestas por el número \"apuesta\" en la ruleta\n",
        "  num = np.arange(0,37)\n",
        "  ganar = 0\n",
        "  perder = 0\n",
        "  for i in range(N):\n",
        "    res = np.random.choice(num)\n",
        "    if apuesta == res:\n",
        "      ganar += 1\n",
        "    else:\n",
        "      perder += 1\n",
        "  return [ganar,perder]"
      ],
      "metadata": {
        "id": "4u9t1CZYulCv"
      },
      "execution_count": null,
      "outputs": []
    },
    {
      "cell_type": "code",
      "source": [
        "jugar(17,100)"
      ],
      "metadata": {
        "id": "OmvQ6NmZvEWI"
      },
      "execution_count": null,
      "outputs": []
    },
    {
      "cell_type": "code",
      "source": [
        "import matplotlib.pyplot as plt"
      ],
      "metadata": {
        "id": "KY_5mOJjzZNC"
      },
      "execution_count": null,
      "outputs": []
    },
    {
      "cell_type": "code",
      "source": [
        "N = 50 #numero de veces que se juega\n",
        "apuesta = 17 #mi número elegido\n",
        "dinero_inicial = 100\n",
        "num = np.arange(0,37)\n",
        "ganar = 0\n",
        "perder = 0\n",
        "\n",
        "for i in range(N):\n",
        "    res = np.random.choice(num)\n",
        "    if apuesta == res:\n",
        "      ganar += 1\n",
        "      dinero_inicial += 1\n",
        "      plt.plot(i,dinero_inicial,'ro')\n",
        "    else:\n",
        "      perder += 1\n",
        "      dinero_inicial -= 1\n",
        "      plt.plot(i,dinero_inicial,'ro')\n"
      ],
      "metadata": {
        "id": "LY8eQ2j_xjb5"
      },
      "execution_count": null,
      "outputs": []
    },
    {
      "cell_type": "markdown",
      "source": [
        "## Calculo de π"
      ],
      "metadata": {
        "id": "pmpHb-JB6WzS"
      }
    },
    {
      "cell_type": "markdown",
      "source": [
        "Crear el código para calcular π empleando una función llamada \"monte_carlo_pi\" aplicada a un número de muestras \"num_samples\"."
      ],
      "metadata": {
        "id": "u-nEeENgvTU5"
      }
    },
    {
      "cell_type": "code",
      "source": [
        "# Elabora tu código\n"
      ],
      "metadata": {
        "id": "xmrLJoNov2cW"
      },
      "execution_count": null,
      "outputs": []
    },
    {
      "cell_type": "code",
      "source": [
        "num_samples = 10000000  # Número de muestras a utilizar\n",
        "pi_estimate = monte_carlo_pi(num_samples)\n",
        "print(\"Estimación de pi usando método de Monte Carlo:\", pi_estimate)"
      ],
      "metadata": {
        "id": "dPgWt_Qu8zgd"
      },
      "execution_count": null,
      "outputs": []
    }
  ]
}
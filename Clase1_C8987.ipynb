{
  "nbformat": 4,
  "nbformat_minor": 0,
  "metadata": {
    "colab": {
      "provenance": [],
      "authorship_tag": "ABX9TyP1u+4fqh3OY6TTqD/k4pj6",
      "include_colab_link": true
    },
    "kernelspec": {
      "name": "python3",
      "display_name": "Python 3"
    },
    "language_info": {
      "name": "python"
    }
  },
  "cells": [
    {
      "cell_type": "markdown",
      "metadata": {
        "id": "view-in-github",
        "colab_type": "text"
      },
      "source": [
        "<a href=\"https://colab.research.google.com/github/inefable12/QuimicaComputacionalySimulaciones2025/blob/main/Clase1_C8987.ipynb\" target=\"_parent\"><img src=\"https://colab.research.google.com/assets/colab-badge.svg\" alt=\"Open In Colab\"/></a>"
      ]
    },
    {
      "cell_type": "markdown",
      "source": [
        "<img src=\"https://miro.medium.com/v2/resize:fit:1400/1*zomnCz8-VMgrSV8eLCx2tw.gif\" width=\"200\" alt=\"molecula\"  />"
      ],
      "metadata": {
        "id": "yMf97UXfuSHn"
      }
    },
    {
      "cell_type": "markdown",
      "source": [
        "$$\\Large \\textit{QUÍMICA COMPUTACIONAL Y SIMULACIONES}$$\n",
        "\n",
        "---\n",
        "$$\\large\\textbf{Sesión 1: Introducción a Linux y Simulación de lanzamiento de dados}$$\n",
        "\n",
        "---\n",
        "$$\\textit{Profesor: Dr. Jesus Alvarado-Huayhuaz}$$\n",
        "\n",
        "<br>\n",
        "<br>"
      ],
      "metadata": {
        "id": "hwCLpeozxEJQ"
      }
    },
    {
      "cell_type": "markdown",
      "source": [
        "En este cuaderno de código desarrollamos una breve introducción a Linux y a continuación abordamos la temática Simulación de lanzamiento de dados."
      ],
      "metadata": {
        "id": "-YCP3USV1ykB"
      }
    },
    {
      "cell_type": "markdown",
      "source": [
        "# A. Introducción a Linux"
      ],
      "metadata": {
        "id": "DOSbpavm2X_i"
      }
    },
    {
      "cell_type": "markdown",
      "source": [
        "https://github.com/inefable12/DUPD_2024/blob/997bcfc3d33d04a4d774dadf3624f273a9ba433b/Sesion4_Introduccion_Linux.ipynb"
      ],
      "metadata": {
        "id": "gtLAadGLAuDh"
      }
    },
    {
      "cell_type": "markdown",
      "source": [
        "# B. Simulación de lanzamiento de dados"
      ],
      "metadata": {
        "id": "_RMq5eBk3jvl"
      }
    },
    {
      "cell_type": "markdown",
      "source": [
        "## 1. Requerimientos"
      ],
      "metadata": {
        "id": "q4Wdzz-3uR8y"
      }
    },
    {
      "cell_type": "code",
      "execution_count": null,
      "metadata": {
        "id": "R-gwhLkwoSQp"
      },
      "outputs": [],
      "source": [
        "# importar librerías\n",
        "#seaborn\n",
        "#numpy\n",
        "#matplotlib\n",
        "#pandas\n",
        "#from scipy import stats"
      ]
    },
    {
      "cell_type": "code",
      "source": [
        "dado = np.random.randint(1,7,10)\n",
        "dado"
      ],
      "metadata": {
        "id": "Zf0oomoJo-e9"
      },
      "execution_count": null,
      "outputs": []
    },
    {
      "cell_type": "markdown",
      "source": [
        "## 2. Lanzamiento de dado"
      ],
      "metadata": {
        "id": "EdaPIjnQrGtA"
      }
    },
    {
      "cell_type": "code",
      "source": [
        "#dado = np.random.randint(1,7,10000)"
      ],
      "metadata": {
        "id": "E7Tg4sFMprEK"
      },
      "execution_count": null,
      "outputs": []
    },
    {
      "cell_type": "code",
      "source": [
        "#plt.hist(dado)"
      ],
      "metadata": {
        "id": "EC2iFnX5DYT8"
      },
      "execution_count": null,
      "outputs": []
    },
    {
      "cell_type": "markdown",
      "source": [
        "## 3. Lanzamiento de 2 dados"
      ],
      "metadata": {
        "id": "4IIAWbROrQfF"
      }
    },
    {
      "cell_type": "code",
      "source": [
        "# Guarda en la variable \"suma\" el resultado del lanzamiento"
      ],
      "metadata": {
        "id": "Ev2nl1K4Dfc7"
      },
      "execution_count": null,
      "outputs": []
    },
    {
      "cell_type": "markdown",
      "source": [
        "## 4. Guardando resultados"
      ],
      "metadata": {
        "id": "xQRnguDxuFpX"
      }
    },
    {
      "cell_type": "markdown",
      "source": [
        "Crea un DataFrame y nombre a la columna como \"numeros\"."
      ],
      "metadata": {
        "id": "3UYQ860yDpL2"
      }
    },
    {
      "cell_type": "code",
      "source": [
        "df = pd.DataFrame({'numeros': suma})\n",
        "df"
      ],
      "metadata": {
        "id": "OmBFnXYCuFKo"
      },
      "execution_count": null,
      "outputs": []
    },
    {
      "cell_type": "markdown",
      "source": [
        "Guardando como CSV"
      ],
      "metadata": {
        "id": "I3TEpkUSypXH"
      }
    },
    {
      "cell_type": "code",
      "source": [
        "df.to_csv('dado_data.csv', index=False)"
      ],
      "metadata": {
        "id": "Ozl0FtIXuN-j"
      },
      "execution_count": null,
      "outputs": []
    },
    {
      "cell_type": "markdown",
      "source": [
        "¿Cuánto espacio ocupa?"
      ],
      "metadata": {
        "id": "mw6oi4aMzKbf"
      }
    },
    {
      "cell_type": "code",
      "source": [
        "!du -h dado_data.csv"
      ],
      "metadata": {
        "id": "s7j-OpU-yuDn"
      },
      "execution_count": null,
      "outputs": []
    },
    {
      "cell_type": "markdown",
      "source": [
        "## 5. Estadística"
      ],
      "metadata": {
        "id": "R3ckGxXUslGp"
      }
    },
    {
      "cell_type": "code",
      "source": [
        "df.describe().T"
      ],
      "metadata": {
        "id": "Ql6uwS4UzT1P"
      },
      "execution_count": null,
      "outputs": []
    },
    {
      "cell_type": "markdown",
      "source": [
        "Usando NUMPY"
      ],
      "metadata": {
        "id": "6eRkzGS543A4"
      }
    },
    {
      "cell_type": "code",
      "source": [
        "max_value = np.max(suma)"
      ],
      "metadata": {
        "id": "jPbSQg2Ksks3"
      },
      "execution_count": null,
      "outputs": []
    },
    {
      "cell_type": "code",
      "source": [
        "print(f\"Mean: {np.mean(suma)}\")\n",
        "print(f\"Median: {np.median(suma)}\")\n",
        "print(f\"Standard Deviation: {np.std(suma)}\")\n",
        "print(f\"Variance: {np.var(suma)}\")\n",
        "print(f\"Minimum Value: {np.min(suma)}\")\n",
        "print(f\"Maximum Value: {np.max(suma)}\")\n",
        "print(f\"25th Percentile: {np.percentile(suma, 25)}\")\n",
        "print(f\"50th Percentile: {np.percentile(suma, 50)}\")\n",
        "print(f\"75th Percentile: {np.percentile(suma, 75)}\")"
      ],
      "metadata": {
        "id": "LeGWpiSXs2wL"
      },
      "execution_count": null,
      "outputs": []
    },
    {
      "cell_type": "code",
      "source": [
        "moda = stats.mode(suma)\n",
        "print(f\"Mode: {moda}\")"
      ],
      "metadata": {
        "id": "RDX5hHZktT0p"
      },
      "execution_count": null,
      "outputs": []
    },
    {
      "cell_type": "markdown",
      "source": [
        "## 6. Gráficas"
      ],
      "metadata": {
        "id": "DSOIh1Ig5Ftc"
      }
    },
    {
      "cell_type": "code",
      "source": [
        "plt.boxplot(suma)\n",
        "plt.title('Diagrama de Cajas para la variable \"suma\"')\n",
        "plt.ylabel('Suma de los dados')\n",
        "plt.show()"
      ],
      "metadata": {
        "id": "vdWExYRq5Nra"
      },
      "execution_count": null,
      "outputs": []
    },
    {
      "cell_type": "code",
      "source": [
        "# Gráficas con puntos\n",
        "plt.figure(figsize=(10, 6))\n",
        "plt.boxplot(suma, showfliers=False)  # showfliers=False, evita la superposición con los punto\n",
        "plt.scatter(np.random.normal(1, 0.04, len(suma)), suma, alpha=0.05, s=10) # ⭣alpha para ⭡transparencia\n",
        "\n",
        "plt.title('Diagrama de Cajas con Puntos')\n",
        "plt.ylabel('Suma de los dados')\n",
        "plt.xticks([]) # Elimina la anotación en el eje X\n",
        "plt.show()"
      ],
      "metadata": {
        "id": "v0s7evee7YtO"
      },
      "execution_count": null,
      "outputs": []
    },
    {
      "cell_type": "code",
      "source": [
        "plt.figure(figsize=(8, 6))\n",
        "sns.violinplot(y=suma)\n",
        "plt.title('Diagrama de Violín')\n",
        "plt.ylabel('Suma de los dados')\n",
        "plt.show()"
      ],
      "metadata": {
        "id": "AapV9lYg-ehC"
      },
      "execution_count": null,
      "outputs": []
    },
    {
      "cell_type": "markdown",
      "source": [
        "## 7. Desafío"
      ],
      "metadata": {
        "id": "igpnDY-x-5EH"
      }
    },
    {
      "cell_type": "markdown",
      "source": [
        "Mira con atención el siguiente video. ¿Qué fue lo que más te impresionó? A continuación te planteamos el desafío de hoy:\n",
        "\n",
        "1. Elabora un código para simular la máquina de Galton\n",
        "2. ¿Cuánto tiempo demora tu código en ejecutarse? Elabora un nuevo código y compara el tiempo de ejecución.\n",
        "3. Plantea 2 situaciones reales donde aplicarías este conocimiento."
      ],
      "metadata": {
        "id": "Z6tSn7NY-9gp"
      }
    },
    {
      "cell_type": "code",
      "source": [
        "#@title Desafío\n",
        "\n",
        "%%html\n",
        "<iframe width=\"560\" height=\"315\" src=\"https://www.youtube.com/embed/-q_Vje2a6eY?si=9mXf-VcDhQr-HfoM\" title=\"YouTube video player\" frameborder=\"0\" allow=\"accelerometer; autoplay; clipboard-write; encrypted-media; gyroscope; picture-in-picture; web-share\" referrerpolicy=\"strict-origin-when-cross-origin\" allowfullscreen></iframe>"
      ],
      "metadata": {
        "cellView": "form",
        "id": "n4r1wKCO87vG"
      },
      "execution_count": null,
      "outputs": []
    },
    {
      "cell_type": "markdown",
      "source": [
        "# C. Bibliografía"
      ],
      "metadata": {
        "id": "TLH-KP-yA_t6"
      }
    },
    {
      "cell_type": "markdown",
      "source": [
        "1. Daniel Romero. Começando com o Linux: Comandos, serviços e administração. Editora Casa do Código, 2014.\n",
        "2. https://www.youtube.com/watch?v=fFqra_XfuQk\n",
        "3. https://altocodigo.blogspot.com/2021/06/maquina-de-galton-en-python.html\n",
        "4. https://github.com/ksprugevics/galton-board"
      ],
      "metadata": {
        "id": "JsIo0SgjBDmc"
      }
    }
  ]
}